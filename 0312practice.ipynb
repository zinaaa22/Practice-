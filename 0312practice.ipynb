{
  "nbformat": 4,
  "nbformat_minor": 0,
  "metadata": {
    "colab": {
      "provenance": [],
      "authorship_tag": "ABX9TyN1z0Nl5+DmHt93z6vLxGTM",
      "include_colab_link": true
    },
    "kernelspec": {
      "name": "python3",
      "display_name": "Python 3"
    },
    "language_info": {
      "name": "python"
    }
  },
  "cells": [
    {
      "cell_type": "markdown",
      "metadata": {
        "id": "view-in-github",
        "colab_type": "text"
      },
      "source": [
        "<a href=\"https://colab.research.google.com/github/zinaaa22/Practice-/blob/main/0312practice.ipynb\" target=\"_parent\"><img src=\"https://colab.research.google.com/assets/colab-badge.svg\" alt=\"Open In Colab\"/></a>"
      ]
    },
    {
      "cell_type": "code",
      "execution_count": null,
      "metadata": {
        "colab": {
          "base_uri": "https://localhost:8080/"
        },
        "id": "v3hMdnde2dD2",
        "outputId": "45a2894c-b282-4861-e346-86532169b342"
      },
      "outputs": [
        {
          "output_type": "stream",
          "name": "stdout",
          "text": [
            "Hello\n"
          ]
        }
      ],
      "source": [
        "# My first python function: print()\n",
        "\n",
        "print(\"Hello\")"
      ]
    },
    {
      "cell_type": "code",
      "source": [
        "# This is a comment line <= This is a comment line\n",
        "# Comments can be more than one line\n",
        "\n",
        "print(\"Hello, Python!\") # this is a code line\n",
        "print('This is the output') #comment can also be written this way"
      ],
      "metadata": {
        "colab": {
          "base_uri": "https://localhost:8080/"
        },
        "id": "P0mcodjb4lxN",
        "outputId": "9a701b0d-5297-4edc-ff51-c271770f3783"
      },
      "execution_count": null,
      "outputs": [
        {
          "output_type": "stream",
          "name": "stdout",
          "text": [
            "Hello, Python!\n",
            "This is the output\n"
          ]
        }
      ]
    },
    {
      "cell_type": "code",
      "source": [
        "import requests\n",
        "\n",
        "# Link to your raw text file\n",
        "url = \"https://raw.githubusercontent.com/MK316/Coding4ET/main/data/sample.txt\"\n",
        "\n",
        "# Reading the file content\n",
        "mydata = requests.get(url)\n",
        "content = mydata.text\n",
        "\n",
        "# Displaying the content\n",
        "print(content)"
      ],
      "metadata": {
        "colab": {
          "base_uri": "https://localhost:8080/"
        },
        "id": "C8Plce3w6p3k",
        "outputId": "82675be4-bbe4-4068-9f2e-45417707ad13"
      },
      "execution_count": null,
      "outputs": [
        {
          "output_type": "stream",
          "name": "stdout",
          "text": [
            "A Fox one day spied a beautiful bunch of ripe grapes hanging from a vine trained along the branches of a tree. The grapes seemed ready to burst with juice, and the Fox's mouth watered as he gazed longingly at them.\n",
            "\n",
            "The bunch hung from a high branch, and the Fox had to jump for it. The first time he jumped he missed it by a long way. So he walked off a short distance and took a running leap at it, only to fall short once more. Again and again he tried, but in vain.\n",
            "\n",
            "Now he sat down and looked at the grapes in disgust.\n",
            "\n"
          ]
        }
      ]
    },
    {
      "cell_type": "code",
      "source": [
        "from IPython.display import Image, display\n",
        "# URL of your image on GitHub (raw link)\n",
        "url = \"https://raw.githubusercontent.com/MK316/Coding4ET/main/images/logo.png\"\n",
        "# Display the image directly from the URL\n",
        "display (Image(url=url))"
      ],
      "metadata": {
        "colab": {
          "base_uri": "https://localhost:8080/",
          "height": 343
        },
        "id": "v4GPky41-SvY",
        "outputId": "b4e8585e-8741-44f2-e51f-a34065bee2d3"
      },
      "execution_count": null,
      "outputs": [
        {
          "output_type": "display_data",
          "data": {
            "text/html": [
              "<img src=\"https://raw.githubusercontent.com/MK316/Coding4ET/main/images/logo.png\"/>"
            ],
            "text/plain": [
              "<IPython.core.display.Image object>"
            ]
          },
          "metadata": {}
        }
      ]
    },
    {
      "cell_type": "markdown",
      "source": [
        "#3.3 Variables"
      ],
      "metadata": {
        "id": "zx3Xfa39AW1x"
      }
    },
    {
      "cell_type": "code",
      "source": [
        "x = 5\n",
        "y = \"Hello, World!\"\n",
        "\n",
        "print(x)\n",
        "print(y)"
      ],
      "metadata": {
        "colab": {
          "base_uri": "https://localhost:8080/"
        },
        "id": "nA-g5RVdAdvE",
        "outputId": "77d78c89-0e22-4432-9dac-0b4e5f80ab9f"
      },
      "execution_count": null,
      "outputs": [
        {
          "output_type": "stream",
          "name": "stdout",
          "text": [
            "5\n",
            "Hello, World!\n"
          ]
        }
      ]
    },
    {
      "cell_type": "code",
      "source": [
        "a = 5\n",
        "b = \"120\"\n",
        "c = a * b\n",
        "print(c)\n",
        "print(\"_\"*500)\n",
        "print(\"i see\")"
      ],
      "metadata": {
        "colab": {
          "base_uri": "https://localhost:8080/"
        },
        "id": "lG7XL0MrCH7G",
        "outputId": "db5d320f-7738-462d-e225-28a7ad2fde77"
      },
      "execution_count": null,
      "outputs": [
        {
          "output_type": "stream",
          "name": "stdout",
          "text": [
            "120120120120120\n",
            "____________________________________________________________________________________________________________________________________________________________________________________________________________________________________________________________________________________________________________________________________________________________________________________________________________________________________________________________________________________________________________________\n",
            "i see\n"
          ]
        }
      ]
    },
    {
      "cell_type": "code",
      "source": [
        "# Cell 1: Creating Variables\n",
        "name = \"John Doe\"\n",
        "age = 30\n",
        "height = 5.9\n",
        "is_student = False"
      ],
      "metadata": {
        "id": "m81Zsb62FTRV"
      },
      "execution_count": null,
      "outputs": []
    },
    {
      "cell_type": "code",
      "source": [
        "# Cell 2: Working with Variables\n",
        "print(f\"Name: {name}\")\n",
        "print(f\"Age: {age}\")\n",
        "print(f\"Height: {height} feet\")\n",
        "print(f\"Is a student: {is_student}\")"
      ],
      "metadata": {
        "colab": {
          "base_uri": "https://localhost:8080/"
        },
        "id": "pmOSn3ktFgIR",
        "outputId": "5687b967-9334-467f-992b-a0041ca08ed7"
      },
      "execution_count": null,
      "outputs": [
        {
          "output_type": "stream",
          "name": "stdout",
          "text": [
            "Name: John Doe\n",
            "Age: 30\n",
            "Height: 5.9 feet\n",
            "Is a student: False\n"
          ]
        }
      ]
    },
    {
      "cell_type": "code",
      "source": [
        "# Cell 3: Changing Variable Value\n",
        "age = 31      # Note that the value '30' was assigned to the variable 'age' in the Cell 2\n",
        "print(f\"Updated Age: {age}\")"
      ],
      "metadata": {
        "id": "eq0xV0sXGJuQ",
        "colab": {
          "base_uri": "https://localhost:8080/"
        },
        "outputId": "776bfed3-346f-4946-82d4-f0435b1bf751"
      },
      "execution_count": 44,
      "outputs": [
        {
          "output_type": "stream",
          "name": "stdout",
          "text": [
            "Updated Age: 31\n"
          ]
        }
      ]
    },
    {
      "cell_type": "code",
      "source": [],
      "metadata": {
        "id": "19b8fOkzHBcM"
      },
      "execution_count": null,
      "outputs": []
    }
  ]
}