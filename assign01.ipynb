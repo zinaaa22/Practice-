{
  "nbformat": 4,
  "nbformat_minor": 0,
  "metadata": {
    "colab": {
      "provenance": [],
      "authorship_tag": "ABX9TyOCn7qUgnCGVq4g+Qo4nBVV",
      "include_colab_link": true
    },
    "kernelspec": {
      "name": "python3",
      "display_name": "Python 3"
    },
    "language_info": {
      "name": "python"
    }
  },
  "cells": [
    {
      "cell_type": "markdown",
      "metadata": {
        "id": "view-in-github",
        "colab_type": "text"
      },
      "source": [
        "<a href=\"https://colab.research.google.com/github/zinaaa22/Practice-/blob/main/Untitled1.ipynb\" target=\"_parent\"><img src=\"https://colab.research.google.com/assets/colab-badge.svg\" alt=\"Open In Colab\"/></a>"
      ]
    },
    {
      "cell_type": "code",
      "execution_count": 1,
      "metadata": {
        "id": "syDLvPdo42DO",
        "outputId": "acdd9252-8acc-4439-baf0-afe1fb41ad34",
        "colab": {
          "base_uri": "https://localhost:8080/"
        }
      },
      "outputs": [
        {
          "output_type": "stream",
          "name": "stdout",
          "text": [
            "Current Time in Seoul: 10:06:43\n"
          ]
        }
      ],
      "source": [
        "# Simple code to print the current time in Seoul\n",
        "from datetime import datetime\n",
        "import pytz  # Import the pytz module for timezone calculations\n",
        "\n",
        "# Define the timezone for Seoul\n",
        "seoul_timezone = pytz.timezone('Asia/Seoul')\n",
        "\n",
        "# Get current time in Seoul's timezone\n",
        "now_seoul = datetime.now(seoul_timezone)\n",
        "\n",
        "# Format the time\n",
        "current_time_seoul = now_seoul.strftime(\"%H:%M:%S\")\n",
        "\n",
        "# Print the current time in Seoul\n",
        "print(\"Current Time in Seoul:\", current_time_seoul)\n",
        "\n"
      ]
    }
  ]
}
